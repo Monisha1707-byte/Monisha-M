{
 "cells": [
  {
   "cell_type": "code",
   "execution_count": 4,
   "id": "c55641dc-c25d-4204-a799-d87ed8127394",
   "metadata": {},
   "outputs": [
    {
     "name": "stdout",
     "output_type": "stream",
     "text": [
      "Welcome to Secure Bank!\n"
     ]
    },
    {
     "name": "stdin",
     "output_type": "stream",
     "text": [
      "Enter your name:  monisha\n"
     ]
    },
    {
     "name": "stdout",
     "output_type": "stream",
     "text": [
      "New account created!\n"
     ]
    },
    {
     "name": "stdin",
     "output_type": "stream",
     "text": [
      "Set your password:  1721\n"
     ]
    },
    {
     "name": "stdout",
     "output_type": "stream",
     "text": [
      "\n",
      "1. Deposit\n",
      "2. Withdraw\n",
      "3. Check Balance\n",
      "4. Exit\n"
     ]
    },
    {
     "name": "stdin",
     "output_type": "stream",
     "text": [
      "Choose an option:  3\n"
     ]
    },
    {
     "name": "stdout",
     "output_type": "stream",
     "text": [
      "Account balance for monisha: ₹0\n",
      "\n",
      "1. Deposit\n",
      "2. Withdraw\n",
      "3. Check Balance\n",
      "4. Exit\n"
     ]
    },
    {
     "name": "stdin",
     "output_type": "stream",
     "text": [
      "Choose an option:  1\n",
      "Enter amount to deposit:  20000\n"
     ]
    },
    {
     "name": "stdout",
     "output_type": "stream",
     "text": [
      "₹20000 deposited. New balance: ₹20000\n",
      "\n",
      "1. Deposit\n",
      "2. Withdraw\n",
      "3. Check Balance\n",
      "4. Exit\n"
     ]
    },
    {
     "name": "stdin",
     "output_type": "stream",
     "text": [
      "Choose an option:  2\n",
      "Enter amount to withdraw:  1500\n"
     ]
    },
    {
     "name": "stdout",
     "output_type": "stream",
     "text": [
      "₹1500 withdrawn. New balance: ₹18500\n",
      "\n",
      "1. Deposit\n",
      "2. Withdraw\n",
      "3. Check Balance\n",
      "4. Exit\n"
     ]
    },
    {
     "name": "stdin",
     "output_type": "stream",
     "text": [
      "Choose an option:  4\n"
     ]
    },
    {
     "name": "stdout",
     "output_type": "stream",
     "text": [
      "Account saved. Goodbye!\n"
     ]
    }
   ],
   "source": [
    "import os\n",
    "import json\n",
    "import random\n",
    "\n",
    "class BankAccount:\n",
    "    def __init__(self, name, password, balance=0):\n",
    "        self.name = name\n",
    "        self.password = password\n",
    "        self.balance = balance\n",
    "\n",
    "    def deposit(self, amount):\n",
    "        self.balance += amount\n",
    "        print(f\"₹{amount} deposited. New balance: ₹{self.balance}\")\n",
    "\n",
    "    def withdraw(self, amount):\n",
    "        if amount > self.balance:\n",
    "            print(\"Insufficient funds\")\n",
    "        else:\n",
    "            self.balance -= amount\n",
    "            print(f\"₹{amount} withdrawn. New balance: ₹{self.balance}\")\n",
    "\n",
    "    def check_balance(self):\n",
    "        print(f\"Account balance for {self.name}: ₹{self.balance}\")\n",
    "\n",
    "    def save_to_file(self):\n",
    "        \"\"\"Save account details to a file\"\"\"\n",
    "        data = {\"password\": self.password, \"balance\": self.balance}\n",
    "        with open(f\"{self.name}.json\", \"w\") as file:\n",
    "            json.dump(data, file)\n",
    "\n",
    "    @classmethod\n",
    "    def load_from_file(cls, name, password):\n",
    "        \"\"\"Load account details and verify password\"\"\"\n",
    "        if os.path.exists(f\"{name}.json\"):\n",
    "            with open(f\"{name}.json\", \"r\") as file:\n",
    "                data = json.load(file)\n",
    "                if data[\"password\"] == password:\n",
    "                    return cls(name, password, data[\"balance\"])\n",
    "                else:\n",
    "                    print(\"Incorrect password!\")\n",
    "                    return None\n",
    "        else:\n",
    "            return None\n",
    "\n",
    "    @staticmethod\n",
    "    def generate_otp():\n",
    "        \"\"\"Generate a 4-digit OTP\"\"\"\n",
    "        return str(random.randint(1000, 9999))\n",
    "\n",
    "# Main menu\n",
    "def main():\n",
    "    print(\"Welcome to Secure Bank!\")\n",
    "    name = input(\"Enter your name: \")\n",
    "\n",
    "    if os.path.exists(f\"{name}.json\"):\n",
    "        while True:\n",
    "            password = input(\"Enter your password: \")\n",
    "            account = BankAccount.load_from_file(name, password)\n",
    "            if account:\n",
    "                break\n",
    "            else:\n",
    "                print(\"Wrong password! Try again.\")\n",
    "\n",
    "        # OTP verification\n",
    "        otp = BankAccount.generate_otp()\n",
    "        print(\"OTP has been sent to your registered number.\")\n",
    "        user_otp = input(\"Enter OTP: \")\n",
    "\n",
    "        if user_otp != otp:\n",
    "            print(\"Invalid OTP! Access denied.\")\n",
    "            return\n",
    "\n",
    "        print(f\"Welcome back, {name}!\")\n",
    "\n",
    "    else:\n",
    "        print(\"New account created!\")\n",
    "        password = input(\"Set your password: \")\n",
    "        account = BankAccount(name, password)\n",
    "\n",
    "    while True:\n",
    "        print(\"\\n1. Deposit\\n2. Withdraw\\n3. Check Balance\\n4. Exit\")\n",
    "        choice = input(\"Choose an option: \")\n",
    "\n",
    "        if choice == \"1\":\n",
    "            amount = int(input(\"Enter amount to deposit: \"))\n",
    "            account.deposit(amount)\n",
    "        elif choice == \"2\":\n",
    "            amount = int(input(\"Enter amount to withdraw: \"))\n",
    "            account.withdraw(amount)\n",
    "        elif choice == \"3\":\n",
    "            account.check_balance()\n",
    "        elif choice == \"4\":\n",
    "            account.save_to_file()\n",
    "            print(\"Account saved. Goodbye!\")\n",
    "            break\n",
    "        else:\n",
    "            print(\"Invalid choice, try again.\")\n",
    "\n",
    "if __name__ == \"__main__\":\n",
    "    main()\n"
   ]
  },
  {
   "cell_type": "code",
   "execution_count": 4,
   "id": "c89423f0-46a0-4cc4-8ceb-0c7a106528f1",
   "metadata": {},
   "outputs": [
    {
     "name": "stdout",
     "output_type": "stream",
     "text": [
      "Welcome to Secure Bank!\n"
     ]
    },
    {
     "name": "stdin",
     "output_type": "stream",
     "text": [
      "Enter your name:  monisha\n"
     ]
    },
    {
     "name": "stdout",
     "output_type": "stream",
     "text": [
      "New account created!\n"
     ]
    },
    {
     "name": "stdin",
     "output_type": "stream",
     "text": [
      "Set your password:  1721\n"
     ]
    },
    {
     "name": "stdout",
     "output_type": "stream",
     "text": [
      "\n",
      "1. Deposit\n",
      "2. Withdraw\n",
      "3. Check Balance\n",
      "4. Exit\n"
     ]
    },
    {
     "name": "stdin",
     "output_type": "stream",
     "text": [
      "Choose an option:  3\n"
     ]
    },
    {
     "name": "stdout",
     "output_type": "stream",
     "text": [
      "Account balance for monisha: ₹0\n",
      "\n",
      "1. Deposit\n",
      "2. Withdraw\n",
      "3. Check Balance\n",
      "4. Exit\n"
     ]
    },
    {
     "name": "stdin",
     "output_type": "stream",
     "text": [
      "Choose an option:  1\n",
      "Enter amount to deposit:  20000\n"
     ]
    },
    {
     "name": "stdout",
     "output_type": "stream",
     "text": [
      "₹20000 deposited. New balance: ₹20000\n",
      "\n",
      "1. Deposit\n",
      "2. Withdraw\n",
      "3. Check Balance\n",
      "4. Exit\n"
     ]
    },
    {
     "name": "stdin",
     "output_type": "stream",
     "text": [
      "Choose an option:  2\n",
      "Enter amount to withdraw:  1500\n"
     ]
    },
    {
     "name": "stdout",
     "output_type": "stream",
     "text": [
      "₹1500 withdrawn. New balance: ₹18500\n",
      "\n",
      "1. Deposit\n",
      "2. Withdraw\n",
      "3. Check Balance\n",
      "4. Exit\n"
     ]
    },
    {
     "name": "stdin",
     "output_type": "stream",
     "text": [
      "Choose an option:  4\n"
     ]
    },
    {
     "name": "stdout",
     "output_type": "stream",
     "text": [
      "Account saved. Goodbye!\n"
     ]
    }
   ],
   "source": [
    "import os\n",
    "import json\n",
    "import random\n",
    "\n",
    "class BankAccount:\n",
    "    def __init__(self, name, password, balance=0):\n",
    "        self.name = name\n",
    "        self.password = password\n",
    "        self.balance = balance\n",
    "\n",
    "    def deposit(self, amount):\n",
    "        self.balance += amount\n",
    "        print(f\"₹{amount} deposited. New balance: ₹{self.balance}\")\n",
    "\n",
    "    def withdraw(self, amount):\n",
    "        if amount > self.balance:\n",
    "            print(\"Insufficient funds\")\n",
    "        else:\n",
    "            self.balance -= amount\n",
    "            print(f\"₹{amount} withdrawn. New balance: ₹{self.balance}\")\n",
    "\n",
    "    def check_balance(self):\n",
    "        print(f\"Account balance for {self.name}: ₹{self.balance}\")\n",
    "\n",
    "    def save_to_file(self):\n",
    "        \"\"\"Save account details to a file\"\"\"\n",
    "        data = {\"password\": self.password, \"balance\": self.balance}\n",
    "        with open(f\"{self.name}.json\", \"w\") as file:\n",
    "            json.dump(data, file)\n",
    "\n",
    "    @classmethod\n",
    "    def load_from_file(cls, name, password):\n",
    "        \"\"\"Load account details and verify password\"\"\"\n",
    "        if os.path.exists(f\"{name}.json\"):\n",
    "            with open(f\"{name}.json\", \"r\") as file:\n",
    "                data = json.load(file)\n",
    "                if data[\"password\"] == password:\n",
    "                    return cls(name, password, data[\"balance\"])\n",
    "                else:\n",
    "                    print(\"Incorrect password!\")\n",
    "                    return None\n",
    "        else:\n",
    "            return None\n",
    "\n",
    "    @staticmethod\n",
    "    def generate_otp():\n",
    "        \"\"\"Generate a 4-digit OTP\"\"\"\n",
    "        return str(random.randint(1000, 9999))\n",
    "\n",
    "# Main menu\n",
    "def main():\n",
    "    print(\"Welcome to Secure Bank!\")\n",
    "    name = input(\"Enter your name: \")\n",
    "\n",
    "    if os.path.exists(f\"{name}.json\"):\n",
    "        while True:\n",
    "            password = input(\"Enter your password: \")\n",
    "            account = BankAccount.load_from_file(name, password)\n",
    "            if account:\n",
    "                break\n",
    "            else:\n",
    "                print(\"Wrong password! Try again.\")\n",
    "\n",
    "        # OTP verification\n",
    "        otp = BankAccount.generate_otp()\n",
    "        print(\"OTP has been sent to your registered number.\")\n",
    "        user_otp = input(\"Enter OTP: \")\n",
    "\n",
    "        if user_otp != otp:\n",
    "            print(\"Invalid OTP! Access denied.\")\n",
    "            return\n",
    "\n",
    "        print(f\"Welcome back, {name}!\")\n",
    "\n",
    "    else:\n",
    "        print(\"New account created!\")\n",
    "        password = input(\"Set your password: \")\n",
    "        account = BankAccount(name, password)\n",
    "\n",
    "    while True:\n",
    "        print(\"\\n1. Deposit\\n2. Withdraw\\n3. Check Balance\\n4. Exit\")\n",
    "        choice = input(\"Choose an option: \")\n",
    "\n",
    "        if choice == \"1\":\n",
    "            amount = int(input(\"Enter amount to deposit: \"))\n",
    "            account.deposit(amount)\n",
    "        elif choice == \"2\":\n",
    "            amount = int(input(\"Enter amount to withdraw: \"))\n",
    "            account.withdraw(amount)\n",
    "        elif choice == \"3\":\n",
    "            account.check_balance()\n",
    "        elif choice == \"4\":\n",
    "            account.save_to_file()\n",
    "            print(\"Account saved. Goodbye!\")\n",
    "            break\n",
    "        else:\n",
    "            print(\"Invalid choice, try again.\")\n",
    "\n",
    "if __name__ == \"__main__\":\n",
    "    main()\n"
   ]
  },
  {
   "cell_type": "code",
   "execution_count": null,
   "id": "1d132444-723f-48dc-8703-47fde2e09cee",
   "metadata": {},
   "outputs": [],
   "source": []
  }
 ],
 "metadata": {
  "kernelspec": {
   "display_name": "Python 3 (ipykernel)",
   "language": "python",
   "name": "python3"
  },
  "language_info": {
   "codemirror_mode": {
    "name": "ipython",
    "version": 3
   },
   "file_extension": ".py",
   "mimetype": "text/x-python",
   "name": "python",
   "nbconvert_exporter": "python",
   "pygments_lexer": "ipython3",
   "version": "3.12.7"
  }
 },
 "nbformat": 4,
 "nbformat_minor": 5
}
